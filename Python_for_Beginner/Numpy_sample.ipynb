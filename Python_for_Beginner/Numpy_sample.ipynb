{
 "cells": [
  {
   "cell_type": "markdown",
   "metadata": {},
   "source": [
    "# Numpy基礎"
   ]
  },
  {
   "cell_type": "code",
   "execution_count": 1,
   "metadata": {},
   "outputs": [],
   "source": [
    "# numpyをインポートして名前をnpにする．numpyのメソッドは，np.***で使える．\n",
    "import numpy as np"
   ]
  },
  {
   "cell_type": "code",
   "execution_count": 2,
   "metadata": {},
   "outputs": [
    {
     "data": {
      "text/plain": [
       "array([[1, 2, 3],\n",
       "       [4, 5, 6],\n",
       "       [7, 8, 9]])"
      ]
     },
     "execution_count": 2,
     "metadata": {},
     "output_type": "execute_result"
    }
   ],
   "source": [
    "# 行列\n",
    "A = np.array([[1,2,3],[4,5,6],[7,8,9]])\n",
    "A"
   ]
  },
  {
   "cell_type": "code",
   "execution_count": 3,
   "metadata": {},
   "outputs": [
    {
     "name": "stdout",
     "output_type": "stream",
     "text": [
      "[[1]\n",
      " [2]\n",
      " [3]]\n"
     ]
    }
   ],
   "source": [
    "# ベクトル\n",
    "x = np.array([[1],[2],[3]])\n",
    "print(x)"
   ]
  },
  {
   "cell_type": "code",
   "execution_count": 4,
   "metadata": {},
   "outputs": [
    {
     "name": "stdout",
     "output_type": "stream",
     "text": [
      "[[14]\n",
      " [32]\n",
      " [50]]\n"
     ]
    }
   ],
   "source": [
    "# 行列とベクトルの演算\n",
    "b = np.dot(A, x)\n",
    "print(b)"
   ]
  },
  {
   "cell_type": "code",
   "execution_count": 5,
   "metadata": {},
   "outputs": [
    {
     "data": {
      "text/plain": [
       "array([[ 1,  2,  3],\n",
       "       [ 8, 10, 12],\n",
       "       [21, 24, 27]])"
      ]
     },
     "execution_count": 5,
     "metadata": {},
     "output_type": "execute_result"
    }
   ],
   "source": [
    "# こちらは違う\n",
    "A * x"
   ]
  },
  {
   "cell_type": "code",
   "execution_count": 6,
   "metadata": {},
   "outputs": [
    {
     "data": {
      "text/plain": [
       "array([[  10,   20,   30],\n",
       "       [ 400,  500,  600],\n",
       "       [7000, 8000, 9000]])"
      ]
     },
     "execution_count": 6,
     "metadata": {},
     "output_type": "execute_result"
    }
   ],
   "source": [
    "# わかりやすく実行すると\n",
    "A= np.array([[1,2,3],[4,5,6],[7,8,9]])\n",
    "x = np.array([[10],[100],[1000]])\n",
    "A * x"
   ]
  },
  {
   "cell_type": "code",
   "execution_count": 7,
   "metadata": {},
   "outputs": [
    {
     "data": {
      "text/plain": [
       "array([[ 2,  4,  6],\n",
       "       [ 8, 10, 12],\n",
       "       [14, 16, 18]])"
      ]
     },
     "execution_count": 7,
     "metadata": {},
     "output_type": "execute_result"
    }
   ],
   "source": [
    "#  定数倍\n",
    "A * 2"
   ]
  },
  {
   "cell_type": "markdown",
   "metadata": {},
   "source": [
    "### 課題1\n",
    "次の計算をせよ．  \n",
    "また，自分自身で手計算して確かめよ．\n",
    "\n",
    "$$\n",
    "A = \n",
    "\\begin{pmatrix}\n",
    "    2 & 0 & 4\\\\\n",
    "    1 & 1 & -3\n",
    "\\end{pmatrix}\n",
    "$$\n",
    "\n",
    "$$\n",
    "B = \n",
    "\\begin{pmatrix}\n",
    "    5 & 7 & 3\\\\\n",
    "    2 & 0 & -1\n",
    "\\end{pmatrix}\n",
    "$$\n",
    "\n",
    "$$\n",
    "2A+3B\n",
    "$$\n",
    "\n",
    "$$\n",
    "A^T B\n",
    "$$"
   ]
  },
  {
   "cell_type": "code",
   "execution_count": 8,
   "metadata": {},
   "outputs": [
    {
     "name": "stdout",
     "output_type": "stream",
     "text": [
      "[[0. 0. 0. 0.]\n",
      " [0. 0. 0. 0.]\n",
      " [0. 0. 0. 0.]]\n"
     ]
    }
   ],
   "source": [
    "# ゼロで初期化\n",
    "A = np.zeros((3,4))\n",
    "print(A)"
   ]
  },
  {
   "cell_type": "code",
   "execution_count": 9,
   "metadata": {},
   "outputs": [
    {
     "name": "stdout",
     "output_type": "stream",
     "text": [
      "[[1. 1. 1. 1.]\n",
      " [1. 1. 1. 1.]\n",
      " [1. 1. 1. 1.]]\n"
     ]
    }
   ],
   "source": [
    "# 1で初期化\n",
    "A = np.ones((3,4))\n",
    "print(A)"
   ]
  },
  {
   "cell_type": "code",
   "execution_count": 10,
   "metadata": {},
   "outputs": [
    {
     "name": "stdout",
     "output_type": "stream",
     "text": [
      "[[1. 0. 0. 0. 0.]\n",
      " [0. 1. 0. 0. 0.]\n",
      " [0. 0. 1. 0. 0.]\n",
      " [0. 0. 0. 1. 0.]\n",
      " [0. 0. 0. 0. 1.]]\n"
     ]
    }
   ],
   "source": [
    "# 1で初期化\n",
    "A = np.eye((5))\n",
    "print(A)"
   ]
  },
  {
   "cell_type": "code",
   "execution_count": 11,
   "metadata": {},
   "outputs": [
    {
     "name": "stdout",
     "output_type": "stream",
     "text": [
      "[[0.46896108 0.26085903 0.62693368]\n",
      " [0.37835108 0.58813699 0.69120275]]\n"
     ]
    }
   ],
   "source": [
    "# 乱数で初期化(0.0から1.0の一様乱数)\n",
    "A = np.random.rand(2,3)\n",
    "print(A)"
   ]
  },
  {
   "cell_type": "code",
   "execution_count": 12,
   "metadata": {},
   "outputs": [
    {
     "name": "stdout",
     "output_type": "stream",
     "text": [
      "[[1 2]\n",
      " [3 4]]\n",
      "[[1 3]\n",
      " [2 4]]\n"
     ]
    }
   ],
   "source": [
    "# 転値\n",
    "A = np.array([[1,2],[3,4]])\n",
    "print(A)\n",
    "print(A.T)"
   ]
  },
  {
   "cell_type": "code",
   "execution_count": 13,
   "metadata": {},
   "outputs": [
    {
     "name": "stdout",
     "output_type": "stream",
     "text": [
      "[7. 2.]\n",
      "[[ 0.89442719 -0.4472136 ]\n",
      " [ 0.4472136   0.89442719]]\n"
     ]
    }
   ],
   "source": [
    "# 固有値，固有ベクトル\n",
    "A = np.array([[6,2],[2,3]])\n",
    "la, v = np.linalg.eig(A)\n",
    "print(la)\n",
    "print(v)"
   ]
  },
  {
   "cell_type": "code",
   "execution_count": 14,
   "metadata": {},
   "outputs": [
    {
     "name": "stdout",
     "output_type": "stream",
     "text": [
      "[[-2.   1. ]\n",
      " [ 1.5 -0.5]]\n"
     ]
    }
   ],
   "source": [
    "# 逆行列\n",
    "A = np.array([[1,2],[3,4]])\n",
    "invA = np.linalg.inv(A)\n",
    "print(invA)"
   ]
  },
  {
   "cell_type": "code",
   "execution_count": 15,
   "metadata": {},
   "outputs": [
    {
     "data": {
      "text/plain": [
       "array([[1.00000000e+00, 1.11022302e-16],\n",
       "       [0.00000000e+00, 1.00000000e+00]])"
      ]
     },
     "execution_count": 15,
     "metadata": {},
     "output_type": "execute_result"
    }
   ],
   "source": [
    "# 逆行列の検算\n",
    "np.dot(A,invA)"
   ]
  },
  {
   "cell_type": "code",
   "execution_count": 16,
   "metadata": {},
   "outputs": [
    {
     "data": {
      "text/plain": [
       "array([[32]])"
      ]
     },
     "execution_count": 16,
     "metadata": {},
     "output_type": "execute_result"
    }
   ],
   "source": [
    "# 内積(以前の方法)\n",
    "a = np.array([[1],[2],[3]])\n",
    "b = np.array([[4],[5],[6]])\n",
    "np.dot(a.T, b)"
   ]
  },
  {
   "cell_type": "code",
   "execution_count": 17,
   "metadata": {},
   "outputs": [
    {
     "data": {
      "text/plain": [
       "32"
      ]
     },
     "execution_count": 17,
     "metadata": {},
     "output_type": "execute_result"
    }
   ],
   "source": [
    "# 内積の検算\n",
    "1*4+2*5+3*6"
   ]
  },
  {
   "cell_type": "code",
   "execution_count": 18,
   "metadata": {},
   "outputs": [
    {
     "name": "stdout",
     "output_type": "stream",
     "text": [
      "[[1]\n",
      " [2]\n",
      " [3]]\n"
     ]
    }
   ],
   "source": [
    "# 縦ベクトル\n",
    "a = np.array([[1],[2],[3]])\n",
    "print(a)"
   ]
  },
  {
   "cell_type": "code",
   "execution_count": 19,
   "metadata": {},
   "outputs": [
    {
     "name": "stdout",
     "output_type": "stream",
     "text": [
      "[[1 2 3]]\n"
     ]
    }
   ],
   "source": [
    "# 横ベクトル\n",
    "a = np.array([[1],[2],[3]])\n",
    "print(a.T)"
   ]
  },
  {
   "cell_type": "markdown",
   "metadata": {},
   "source": [
    "### 課題2\n",
    "\n",
    "次の行列の逆行列を求めよ．  \n",
    "また，自分自身で手計算して確かめよ．\n",
    "\n",
    "$$\n",
    "A = \n",
    "\\begin{pmatrix}\n",
    "    5 & 4 \\\\\n",
    "    3 & 2\n",
    "\\end{pmatrix}\n",
    "$$"
   ]
  },
  {
   "cell_type": "markdown",
   "metadata": {},
   "source": [
    "## 連立1次方程式を解いてみる"
   ]
  },
  {
   "cell_type": "markdown",
   "metadata": {},
   "source": [
    "$$\n",
    "\\begin{cases}\n",
    "    x+5y=15\\\\\n",
    "    -2x+y=-8\n",
    "\\end{cases}\n",
    "$$"
   ]
  },
  {
   "cell_type": "code",
   "execution_count": 20,
   "metadata": {},
   "outputs": [],
   "source": [
    "# 行列A\n",
    "A = np.array([[1,5],[-2,1]])\n",
    "\n",
    "# ベクトルb\n",
    "b = np.array([[15],[-8]])"
   ]
  },
  {
   "cell_type": "code",
   "execution_count": 21,
   "metadata": {},
   "outputs": [
    {
     "name": "stdout",
     "output_type": "stream",
     "text": [
      "[[5.]\n",
      " [2.]]\n"
     ]
    }
   ],
   "source": [
    "# 連立1次方程式Ax = bを解く\n",
    "#\n",
    "# 公式を使って逆行列を求めて，解を求める\n",
    "\n",
    "invA = 1/(A[0,0]*A[1,1] - A[0,1]*A[1,0])*np.array([[A[1,1],-1*A[0,1]],[-1*A[1,0],A[0,0]]])\n",
    "x = np.dot(invA, b)\n",
    "print(x)"
   ]
  },
  {
   "cell_type": "markdown",
   "metadata": {},
   "source": [
    "2行2列の行列Aの逆行列は以下の公式で求められる．  \n",
    "$$\n",
    "A = \n",
    "\\begin{pmatrix}\n",
    "    a & b\\\\\n",
    "    c & d\n",
    "\\end{pmatrix}\n",
    "$$\n",
    "\n",
    "$$\n",
    "A^{-1}\n",
    "=\n",
    "\\frac{1}{ad-bc}\n",
    "\\begin{pmatrix}\n",
    "    d & -b\\\\\n",
    "    -c & a\n",
    "\\end{pmatrix}\n",
    "$$"
   ]
  },
  {
   "cell_type": "code",
   "execution_count": 22,
   "metadata": {},
   "outputs": [
    {
     "name": "stdout",
     "output_type": "stream",
     "text": [
      "[[5.]\n",
      " [2.]]\n"
     ]
    }
   ],
   "source": [
    "# 連立1次方程式Ax = bを解く\n",
    "#\n",
    "# Numpyで逆行列を求めて，解を求める\n",
    "\n",
    "invA = np.linalg.inv(A)\n",
    "x = np.dot(invA, b)\n",
    "print(x)"
   ]
  },
  {
   "cell_type": "code",
   "execution_count": 23,
   "metadata": {},
   "outputs": [
    {
     "name": "stdout",
     "output_type": "stream",
     "text": [
      "[[5.]\n",
      " [2.]]\n"
     ]
    }
   ],
   "source": [
    "# 連立1次方程式Ax = bを解く\n",
    "#\n",
    "# Numpyで連立1次方程式を解く\n",
    "\n",
    "x = np.linalg.solve(A, b)\n",
    "print(x)"
   ]
  },
  {
   "cell_type": "code",
   "execution_count": 24,
   "metadata": {},
   "outputs": [
    {
     "data": {
      "text/plain": [
       "array([[15.],\n",
       "       [-8.]])"
      ]
     },
     "execution_count": 24,
     "metadata": {},
     "output_type": "execute_result"
    }
   ],
   "source": [
    "# 確認\n",
    "np.dot(A,x)"
   ]
  },
  {
   "cell_type": "markdown",
   "metadata": {},
   "source": [
    "## 連立1次方程式を視覚化する（matplotlibの練習を兼ねて）"
   ]
  },
  {
   "cell_type": "markdown",
   "metadata": {},
   "source": [
    "$$\n",
    "\\begin{cases}\n",
    "    x+5y=15\\\\\n",
    "    -2x+y=-8\n",
    "\\end{cases}\n",
    "$$"
   ]
  },
  {
   "cell_type": "markdown",
   "metadata": {},
   "source": [
    "$$\n",
    "\\begin{cases}\n",
    "    y=-1/5x+3\\\\\n",
    "    y=2x-8\n",
    "\\end{cases}\n",
    "$$"
   ]
  },
  {
   "cell_type": "code",
   "execution_count": 25,
   "metadata": {},
   "outputs": [],
   "source": [
    "# グラフ表示したい関数A\n",
    "def mathfuncA(x):\n",
    "    y = -1.0/5.0*x+3.0\n",
    "    return y"
   ]
  },
  {
   "cell_type": "code",
   "execution_count": 26,
   "metadata": {},
   "outputs": [],
   "source": [
    "# グラフ表示したい関数B\n",
    "def mathfuncB(x):\n",
    "    y = 2.0*x-8\n",
    "    return y"
   ]
  },
  {
   "cell_type": "code",
   "execution_count": 27,
   "metadata": {},
   "outputs": [
    {
     "data": {
      "text/plain": [
       "2.0"
      ]
     },
     "execution_count": 27,
     "metadata": {},
     "output_type": "execute_result"
    }
   ],
   "source": [
    "mathfuncA(5)"
   ]
  },
  {
   "cell_type": "code",
   "execution_count": 28,
   "metadata": {},
   "outputs": [
    {
     "data": {
      "text/plain": [
       "2.0"
      ]
     },
     "execution_count": 28,
     "metadata": {},
     "output_type": "execute_result"
    }
   ],
   "source": [
    "mathfuncB(5)"
   ]
  },
  {
   "cell_type": "code",
   "execution_count": 29,
   "metadata": {},
   "outputs": [
    {
     "data": {
      "text/plain": [
       "<Figure size 640x480 with 1 Axes>"
      ]
     },
     "metadata": {},
     "output_type": "display_data"
    }
   ],
   "source": [
    "# 作成した関数のグラフを表示する\n",
    "import matplotlib.pyplot as plt\n",
    "\n",
    "# 定義域を設定\n",
    "xmin = 0.0\n",
    "xmax = 8.0\n",
    "num = 100 # xminからxmaxまでをnum個で区切る\n",
    "x = np.linspace(xmin, xmax, num)\n",
    "\n",
    "# 関数から値域を取得\n",
    "y = mathfuncA(x)\n",
    "# 点どうしを直線でつなぐ\n",
    "plt.plot(x, y,color='red')\n",
    "\n",
    "\n",
    "# 関数から値域を取得\n",
    "y = mathfuncB(x)\n",
    "# 点どうしを直線でつなぐ\n",
    "plt.plot(x, y,color='blue')\n",
    "\n",
    "# 適切な表示範囲を指定\n",
    "plt.xlim(xmin, xmax)\n",
    "\n",
    "# グリッド追加\n",
    "plt.grid(True)\n",
    "\n",
    "# 表示\n",
    "plt.show()"
   ]
  },
  {
   "cell_type": "markdown",
   "metadata": {},
   "source": [
    "### 課題3\n",
    "3元連立1次方程式を解け．  \n",
    "また，自分自身で手計算して確かめよ．\n",
    "\n",
    "$$\n",
    "\\begin{cases}\n",
    "   2x+3y-5z=3\\\\\n",
    "    x-y+z=0\\\\\n",
    "    3x-6y+2z=-7\n",
    "\\end{cases}\n",
    "$$"
   ]
  },
  {
   "cell_type": "markdown",
   "metadata": {},
   "source": [
    "### 何か関数を表示したいときは以下のサンプルプログラムを使うと良い"
   ]
  },
  {
   "cell_type": "code",
   "execution_count": 31,
   "metadata": {},
   "outputs": [
    {
     "data": {
      "image/png": "[encoded data removed]",
      "text/plain": [
       "<Figure size 432x288 with 1 Axes>"
      ]
     },
     "metadata": {
      "needs_background": "light"
     },
     "output_type": "display_data"
    }
   ],
   "source": [
    "import numpy as np\n",
    "import matplotlib.pyplot as plt\n",
    "\n",
    "###############\n",
    "# グラフ表示したい関数\n",
    "###############\n",
    "def mathfunc(x):\n",
    "    y = x**4 - 8*x**3 + 18*x**2 - 3*x + 1\n",
    "    return y\n",
    "\n",
    "\n",
    "#######################\n",
    "# 作成した関数のグラフを表示する\n",
    "#######################\n",
    "\n",
    "# 定義域を設定\n",
    "xmin = -1.0\n",
    "xmax = 4.5\n",
    "num = 100 # xminからxmaxまでをnum個で区切る\n",
    "x = np.linspace(xmin, xmax, num)\n",
    "\n",
    "# 関数から値域を取得\n",
    "y = mathfunc(x)\n",
    "\n",
    "# 点どうしを直線でつなぐ\n",
    "plt.plot(x, y)\n",
    "\n",
    "# 適切な表示範囲を指定\n",
    "plt.xlim(xmin, xmax)\n",
    "\n",
    "# グリッド追加\n",
    "plt.grid(True)\n",
    "\n",
    "# 表示\n",
    "plt.show()"
   ]
  }
 ],
 "metadata": {
  "kernelspec": {
   "display_name": "Python 3",
   "language": "python",
   "name": "python3"
  },
  "language_info": {
   "codemirror_mode": {
    "name": "ipython",
    "version": 3
   },
   "file_extension": ".py",
   "mimetype": "text/x-python",
   "name": "python",
   "nbconvert_exporter": "python",
   "pygments_lexer": "ipython3",
   "version": "3.7.4"
  }
 },
 "nbformat": 4,
 "nbformat_minor": 2
}
